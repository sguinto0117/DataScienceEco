{
 "cells": [
  {
   "cell_type": "code",
   "execution_count": null,
   "id": "7e75c8d6-7fd5-4c3a-8368-54d24165a873",
   "metadata": {
    "tags": []
   },
   "outputs": [],
   "source": [
    "# Data Science Tools and Ecosystem"
   ]
  },
  {
   "cell_type": "code",
   "execution_count": null,
   "id": "4616c229-2f1a-4d81-889b-620cc7128f09",
   "metadata": {
    "tags": []
   },
   "outputs": [],
   "source": [
    "###### In this notebook, Data Science Tools and Ecosystem are summarized."
   ]
  },
  {
   "cell_type": "code",
   "execution_count": null,
   "id": "6e1b8aa2-36c0-409a-b1d2-b5bfcda63493",
   "metadata": {
    "tags": []
   },
   "outputs": [],
   "source": [
    "**Objectives:**\n",
    "\n",
    "- List popular languages used by Data Scientists.\n",
    "- List common libraries used by Data Scientists.\n",
    "- Data Science Tool Table."
   ]
  },
  {
   "cell_type": "markdown",
   "id": "6fe1b943-aa29-4796-a420-8673d4e13b06",
   "metadata": {
    "tags": []
   },
   "source": [
    "# Some of the popular languages that Data Scientists use are:\n",
    "\n",
    "1. Python\n",
    "2. R\n",
    "3. SQL"
   ]
  },
  {
   "cell_type": "code",
   "execution_count": null,
   "id": "dd0ec43e-300a-4984-990f-f813cd8ec682",
   "metadata": {},
   "outputs": [],
   "source": [
    "# Some of the commonly used libraries used by Data Scientists include:\n",
    "\n",
    "1. Pandas\n",
    "2. NumPy\n",
    "3. Matplotlib\n",
    "4. Seaborn\n",
    "5. Scikit-learn\n"
   ]
  },
  {
   "cell_type": "code",
   "execution_count": null,
   "id": "ed6ba49e-a2e6-4acb-9d4c-af801fd7243d",
   "metadata": {
    "tags": []
   },
   "outputs": [],
   "source": [
    "|Data Science Tools | \n",
    "| ------ | \n",
    "| MySQL | \n",
    "|MongoDB | \n",
    "| CouchDB | \n",
    "| Hadoop | "
   ]
  },
  {
   "cell_type": "code",
   "execution_count": null,
   "id": "a2fc3b50-34b1-41d9-888d-528bf080b4d7",
   "metadata": {
    "tags": []
   },
   "outputs": [],
   "source": [
    "### Below are a few examples of evaluating arithmetic expressions in Python"
   ]
  },
  {
   "cell_type": "code",
   "execution_count": null,
   "id": "d76581cb-7834-4eed-8b40-4a6708075d5e",
   "metadata": {
    "tags": []
   },
   "outputs": [],
   "source": [
    "# This a simple arithmetic expression to mutiply then add integers\n",
    "(3*4)+5."
   ]
  },
  {
   "cell_type": "code",
   "execution_count": 13,
   "id": "58492da0-c587-425c-9d74-9cd0bf258b95",
   "metadata": {
    "tags": []
   },
   "outputs": [
    {
     "data": {
      "text/plain": [
       "3.3333333333333335"
      ]
     },
     "execution_count": 13,
     "metadata": {},
     "output_type": "execute_result"
    }
   ],
   "source": [
    "# This will convert 200 minutes to hours by diving by 60\n",
    "(200 / 60)"
   ]
  },
  {
   "cell_type": "markdown",
   "id": "a8555d71-6b8b-40f5-8811-3447243e5dd6",
   "metadata": {
    "tags": []
   },
   "source": [
    "## Author\n",
    "Scott Guinto"
   ]
  },
  {
   "cell_type": "code",
   "execution_count": null,
   "id": "9a86f54f-55f2-4d78-aa4a-b1c9ccf7648d",
   "metadata": {},
   "outputs": [],
   "source": []
  },
  {
   "cell_type": "code",
   "execution_count": null,
   "id": "090661d2-9fbf-4574-bd6d-bdd507791e1f",
   "metadata": {},
   "outputs": [],
   "source": []
  }
 ],
 "metadata": {
  "kernelspec": {
   "display_name": "Python",
   "language": "python",
   "name": "conda-env-python-py"
  },
  "language_info": {
   "codemirror_mode": {
    "name": "ipython",
    "version": 3
   },
   "file_extension": ".py",
   "mimetype": "text/x-python",
   "name": "python",
   "nbconvert_exporter": "python",
   "pygments_lexer": "ipython3",
   "version": "3.7.12"
  }
 },
 "nbformat": 4,
 "nbformat_minor": 5
}
